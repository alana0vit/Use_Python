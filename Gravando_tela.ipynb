{
 "cells": [
  {
   "cell_type": "code",
   "execution_count": 4,
   "metadata": {},
   "outputs": [],
   "source": [
    "import cv2 # opencv-python - vai gravar a tela\n",
    "import keyboard # vai parar o video\n",
    "import pyautogui # vai automatizar os frames como video, capiturar a resolução\n",
    "import numpy"
   ]
  },
  {
   "cell_type": "code",
   "execution_count": null,
   "metadata": {},
   "outputs": [],
   "source": [
    "# fps - frame por segundo\n",
    "# codec - uma meio de compactar e redenrizar o video de forma digital; é um método para compactar e descompactar dados para que possam ser facilmente transportados e recebidos\n",
    "# por diferentes aplicativos.\n",
    "\n",
    "fps = 30\n",
    "tamanho_tela = tuple(pyautogui.size()) # pega o tamanho da resolução de tela - print(tamanho_tela)\n",
    "codec = cv2.VideoWriter_fourcc(*\"XVID\")\n",
    "\n",
    "# criando o video - informações a serem passadas: nome do arquivo final (.avi pela extensão XVID), fourcc (o codec), o fps, o frame size (tamanho da tela)\n",
    "video = cv2.VideoWriter('Video.avi', codec, fps, tamanho_tela)\n",
    "\n",
    "# loop para transformar os frames em video\n",
    "while True:\n",
    "    captura = pyautogui.screenshot() # realiza os 'prints' da tela\n",
    "    # o opencv exerga o padrão de cores BGR, então para sair as cores certas no video, precisamos converter o padrão de cores de RGB para BGR\n",
    "    # convertemos com o cv2.cvtColor, que disponibiliza uma lista de opções de cores (preto e branco por exemplo); dentro passamos as informações (os frames transformados em\n",
    "    # matriz - com o numpy, e o padrão de cores desejado)\n",
    "    frame = cv2.cvtColor(numpy.array(captura), cv2.COLOR_RGB2BGR)\n",
    "\n",
    "    video.write(frame) # adiciona/escreve/salva os prints no video\n",
    "\n",
    "    if keyboard.is_pressed('esc'): # loop para parar a gravação do video\n",
    "        break\n",
    "\n",
    "video.release() # finalza/gera o video final\n",
    "cv2.destroyAllWindows # fecha qualquer janela aberta que o cv2 tenha criado\n",
    "\n",
    "# o video não possui audio"
   ]
  }
 ],
 "metadata": {
  "kernelspec": {
   "display_name": "Python 3",
   "language": "python",
   "name": "python3"
  },
  "language_info": {
   "codemirror_mode": {
    "name": "ipython",
    "version": 3
   },
   "file_extension": ".py",
   "mimetype": "text/x-python",
   "name": "python",
   "nbconvert_exporter": "python",
   "pygments_lexer": "ipython3",
   "version": "3.12.0"
  }
 },
 "nbformat": 4,
 "nbformat_minor": 2
}
