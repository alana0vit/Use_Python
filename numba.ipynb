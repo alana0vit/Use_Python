{
 "cells": [
  {
   "cell_type": "markdown",
   "metadata": {},
   "source": [
    "Numba é uma ferramenta utilizada para aumentar a velocidade de compilação dos códigos em python. Por ser uma linguagem interpretada, Python é uma linguagem mais lenta em relação a linguagens compiladas;"
   ]
  },
  {
   "cell_type": "markdown",
   "metadata": {},
   "source": [
    "Abaixo um código simples que calcula o valor de um imposto através de uma função 'for':"
   ]
  },
  {
   "cell_type": "code",
   "execution_count": 1,
   "metadata": {},
   "outputs": [
    {
     "name": "stdout",
     "output_type": "stream",
     "text": [
      "39.124380588531494\n"
     ]
    }
   ],
   "source": [
    "import time # importando a biblioteca time\n",
    "\n",
    "def valor_com_imposto(qtde): # criando uma função para o cálculo desejado\n",
    "    for i in range(qtde):\n",
    "        novo_valor = qtde * 1.1\n",
    "\n",
    "inicio = time.time() # pegando a hora do inicio da execução da função\n",
    "valor_com_imposto(1000000000) # fazendo a função 'for' passar num loop de 1 biblhão vezes\n",
    "fim = time.time() # pegando a hora do fim da execução da função\n",
    "print(fim-inicio) # subtraindo o inicio e o fim para encontrar o tempo de execução da função"
   ]
  },
  {
   "cell_type": "markdown",
   "metadata": {},
   "source": [
    "Ao executar o código acima, vemos a quatidade de tempo que ela usou para executar. Agora vejamos o mesmo código com O Numba; OBS: essa ferramenta é mais viável em códigos com loops, operações matemáticas ou aplicações da biblioteca Numpy(arrays por exemplo);"
   ]
  },
  {
   "cell_type": "markdown",
   "metadata": {},
   "source": [
    "Em vez de tratar o código como ele é normalmente tratado no Python, o Numba, vai pegar o código e vai compilar ele para linguagem de máquina em um just-in-time (exatamente no momento em que você for executar o código).\n",
    "OBS²: mesmo sendo uma ferramento, o Numba é instalavel como uma biblioteca (pip install numba);"
   ]
  },
  {
   "cell_type": "code",
   "execution_count": 9,
   "metadata": {},
   "outputs": [
    {
     "name": "stdout",
     "output_type": "stream",
     "text": [
      "0.04795408248901367\n"
     ]
    }
   ],
   "source": [
    "from numba import jit, njit # importando os métodos jit e njit do numba; jit: just-in-time\n",
    "\n",
    "# esse '@' é um Decorator, ele serve para atribuir uma funcionabilidade num coódigo/função abaixo dele. A funcionalidade será o jit do Numba, ele receberá um parâmetro 'nopython' que significa que o código não será interpretado como normalmente é no python, mas sim compilado. OBS³: um meio prático de usar o '@jit(nopython=True)', é colocar apenas @njit que é equivalente à funcionalibidade e significa a mesma coisa resumidamente;\n",
    "@jit(nopython=True)\n",
    "# @njit\n",
    "def valor_com_imposto(qtde):\n",
    "    for i in range(qtde):\n",
    "        novo_valor = qtde * 1.1\n",
    "\n",
    "inicio = time.time()\n",
    "valor_com_imposto(1000000000)\n",
    "fim = time.time()\n",
    "print(fim-inicio)\n",
    "\n",
    "# agora ao executar o código, vemos que o tempo reduziu bastante, e se executado mais vezes, o tempo cairá mais;"
   ]
  },
  {
   "cell_type": "markdown",
   "metadata": {},
   "source": [
    "Você pode achar um guia/documentação do Numba em: https://numba.readthedocs.io/en/stable/"
   ]
  }
 ],
 "metadata": {
  "kernelspec": {
   "display_name": "Python 3",
   "language": "python",
   "name": "python3"
  },
  "language_info": {
   "codemirror_mode": {
    "name": "ipython",
    "version": 3
   },
   "file_extension": ".py",
   "mimetype": "text/x-python",
   "name": "python",
   "nbconvert_exporter": "python",
   "pygments_lexer": "ipython3",
   "version": "3.12.0"
  }
 },
 "nbformat": 4,
 "nbformat_minor": 2
}
